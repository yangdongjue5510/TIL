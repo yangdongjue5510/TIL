{
 "cells": [
  {
   "cell_type": "markdown",
   "metadata": {},
   "source": [
    "<div class=\"alert alert-block\" style=\"border: 1px solid #455A64;background-color:#ECEFF1;padding:5px;font-size:0.9em;\">\n",
    "본 자료와 관련 영상 컨텐츠는 저작권법 제25조 2항에 의해 보호를 받습니다. <br>본 컨텐츠 및 컨텐츠 일부 문구 등을 외부에 공개하거나, 요약해서 게시하지 말아주세요.\n",
    "</div>"
   ]
  },
  {
   "cell_type": "markdown",
   "metadata": {},
   "source": [
    "<div class=\"alert alert-block\" style=\"border: 1px solid #FFB300;background-color:#F9FBE7;font-size:1.2em;line-height:1.4em\">\n",
    "<font size=\"4em\" style=\"font-weight:bold;color:#3f8dbf;\">참고 자료 (JDK 와 IntelliJ IDEA 설치)</font><br><br>\n",
    "- 자료구조와 알고리즘 강의에서는 JDK 가 9 이상이면, 어떤 에디터를 사용하든 코드 실행에는 특별한 이슈는 없습니다. <br>\n",
    "- 본 강의는 처음 JDK 와 에디터를 설치하는 경우에, 가볍게 참고하면 좋을 강의입니다. <br>\n",
    "- 현업에서는 Intelli IDEA 툴을 JAVA 에디터로 많이 사용하므로, Intelli IDEA 툴과 JDK 설치에 대해 가볍게 기술하였습니다.\n",
    "</div>"
   ]
  },
  {
   "cell_type": "markdown",
   "metadata": {},
   "source": [
    "### 1. JDK 와 JRE\n",
    "- 간략히 JDK = JRE + @ 라고 이해하면 됨\n",
    "- JRE(Java Runtime Enviroment) : 컴파일된 자바 프로그램을 실행시킬 수 있는 환경을 제공해주는 프로그램\n",
    "- JDK(Java Development Kit) : 자바 프로그래밍 작성시 필요한 컴파일러 및 패키지 등을 포함\n",
    "\n",
    "> 따라서, JAVA 프로그래밍시, JDK 설치가 필요하며, JDK 는 JRE + @ 이므로, JDK 를 설치하면, 별도로 JRE 를 설치할 필요는 없음\n",
    "\n",
    "### 2. Java SE, Java EE, Java ME\n",
    "- SE 는 Software Edition 의 약자로 개발자들을 위한 에디션\n",
    "- EE 는 Enterprse Edition 의 약자로 기업용 JAVA 소프트웨어 개발을 위한 라이브러리들이 추가된 에디션\n",
    "- ME 는 Micro Edition 의 약자로 임베디드용 JAVA 소프트웨어 개발을 위한 에디션\n",
    "\n",
    "> Java SE 의 JDK 를 다운로드 받으면 됨"
   ]
  },
  {
   "cell_type": "markdown",
   "metadata": {},
   "source": [
    "### 3. JDK 설치\n",
    "\n",
    "1. 다운로드 JDK\n",
    "   - 다운로드 페이지 (JDK Download): https://www.oracle.com/java/technologies/javase-downloads.html\n",
    "   - JAVA 다운로드 페이지 인터페이스는 언제든 수시로 바뀔 수 있으므로, 위 내용을 참고로, 필요시 검색을 통해 설치 방법을 따르도록 함\n",
    "<br><br>\n",
    "2. 윈도우의 경우, PATH 환경 변수 설정이 필요함\n",
    "   - JDK가 설치된 경로를 찾아야 함 (예: C:\\Program Files\\Java\\jdk-15.0.2.jdk)\n",
    "   - 제어판 -> 고급 시스템 설정 -> 환경 변수 탭에서 PATH 를 찾아서 편집을 누르고, JDK 설치 경로의 하부 폴더인 bin 폴더까지를 경로로 추가\n",
    "     - 예: C:\\Program Files\\Java\\jdk-15.0.2.jdk\\bin \n",
    "<br><br>\n",
    "3. 맥의 경우에는 터미널 환경에서 JAVA 명령어를 사용하고 싶을 경우, PATH 설정을 해주면 됨 (참고)\n",
    "> 터미널는 각 터미널마다 굉장히 다양한 환경이 있고, 필수 요소는 아니므로, 가장 일반적으로 맥에서 사용하는 iterm2 와 zsh 케이스에 대해 설명드림 \n",
    "   - 맥의 PATH 설정은 우선 JDK 가 설치된 폴더를 터미널에서 다음 명령으로 찾고,\n",
    "   ```bash\n",
    "   ls -lsa /Library/Java/JavaVirtualMachines\n",
    "   ```\n",
    "   - 맥 터미널 환경에서 java 터미널 명령을 실행하고 싶을 경우\n",
    "     - 설치된 폴더(버전) 에 Contents/Home/bin 하위 폴더를 PATH 에 다음과 같은 방식으로 추가할 수 있음 (터미널 환경에 익숙하신 분들만을 대상으로 함)\n",
    "     \n",
    "   ```bash\n",
    "   echo 'export PATH=\"/Library/Java/JavaVirtualMachines/jdk-15.0.2.jdk/Contents/Home/bin:$PATH\"' >> 자신의쉘프로파일\n",
    "   ```\n",
    "      - 자신의 쉘 프로파일은 맥 사용자는 보통 iterm2 와 zsh 쉘을 사용하는 경우가 일반적이므로 ~/.zshrc (사용자 디폴트 폴더 내의 .zshrc 파일)\n",
    "      - 적용 후, 터미널을 껐다 키거나, 다음 명령을 터미널에서 실행해서, 바로 적용할 수도 있음\n",
    "   ```\n",
    "   source 자신의쉘프로파일\n",
    "   ```"
   ]
  },
  {
   "cell_type": "markdown",
   "metadata": {},
   "source": [
    "### 4. IntelliJ IDEA 설치\n",
    "- 구글 사이트에서 intelliJ IDEA 로 검색하거나, 다음 링크로 접속\n",
    "  - https://www.jetbrains.com/ko-kr/idea/download/\n",
    "- Community 버전으로 다운로드 및 설치 \n",
    "  - 설치 과정에서 반드시 해야하는 설정은 없으며, 윈도우의 경우 다음 네가지 옵션을 보통 선택함\n",
    "    - Create Desktop Shortcut : 윈도우 OS 환경 체크 옵션\n",
    "    - Update PATH variable(restart needed) : 윈도우 환경변수에 IntelliJ IDEA 폴더 추가 옵션\n",
    "    - Update context menu : 프로젝트로 폴더 열기 옵션\n",
    "    - Create Association : 디폴트로 .java 파일을 IntelliJ IDEA 로 오픈할 것인지에 대한 설정 (.java 파일만 보통 선택)\n",
    "  - 설치 후, 최초 실행시 팝업창에서 Do not import settings 선택 후, 오픈 (별도 설정 파일이 없기 때문)\n",
    "  - Ultimate 버전은 유료 (학생일 경우, 학생용 라이센스를 받을 수 있음)"
   ]
  },
  {
   "cell_type": "markdown",
   "metadata": {},
   "source": [
    "### 5. IntelliJ IDEA 에서 JAVA 코드 실행하기\n",
    "- IntelliJ IDEA 실행 후, New Project 선택\n",
    "- Project SDK 에 설치한 JDK 버전이 정확히 들어 있는지 확인 (자동으로 설정됨)\n",
    "- Next 누르고, 별도 체크 없이, Next 를 다시 한번 누른 후, \n",
    "  - 자신의 프로젝트들을 넣어놓을 Project location 을 알맞게 설정\n",
    "  - 프로젝트 이름 설정\n",
    "- 왼쪽 src 폴더에서 오른쪽 클릭 후, New -> JAVA class 선택 후, JAVA 코드 파일명 입력\n",
    "- 해당 파일에서 다음과 같이 작성\n",
    "  - main 함수 작성시 main 만 키보드로 입력 후, 탭(Tab) 을 누르면, main 함수가 자동으로 기입됨\n",
    "  - 이외에 기본적인 함수 이름 자동 완성등의 기능을 지원함\n",
    "  ```java\n",
    "  public class HelloWorld {\n",
    "        public static void main(String[] args) {\n",
    "            System.out.println(\"Hello IntelliJ IDEA\");\n",
    "        }\n",
    "  }\n",
    "  ```\n",
    "- 해당 파일 어디에서든 오른쪽 클릭 후, Run 메뉴를 누르면 실행됨\n",
    "  - Debug 메뉴를 통해 디버깅도 가능함\n",
    "  \n",
    "> main() 함수부터 실행하므로, 주피터 노트북등 코드는 기본적으로 main 함수 내에서 실행하도록 하면 됨"
   ]
  },
  {
   "cell_type": "markdown",
   "metadata": {},
   "source": [
    "<div class=\"alert alert-block\" style=\"border: 1px solid #455A64;background-color:#ECEFF1;padding:5px;font-size:0.9em;\">\n",
    "본 자료와 관련 영상 컨텐츠는 저작권법 제25조 2항에 의해 보호를 받습니다. <br>본 컨텐츠 및 컨텐츠 일부 문구 등을 외부에 공개하거나, 요약해서 게시하지 말아주세요.\n",
    "</div>"
   ]
  }
 ],
 "metadata": {
  "kernelspec": {
   "display_name": "Python 3 (ipykernel)",
   "language": "python",
   "name": "python3"
  },
  "language_info": {
   "codemirror_mode": {
    "name": "ipython",
    "version": 3
   },
   "file_extension": ".py",
   "mimetype": "text/x-python",
   "name": "python",
   "nbconvert_exporter": "python",
   "pygments_lexer": "ipython3",
   "version": "3.9.6"
  }
 },
 "nbformat": 4,
 "nbformat_minor": 4
}
