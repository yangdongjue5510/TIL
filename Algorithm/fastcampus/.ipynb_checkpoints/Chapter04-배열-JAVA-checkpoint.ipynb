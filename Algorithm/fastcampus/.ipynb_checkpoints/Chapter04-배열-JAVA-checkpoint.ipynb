{
 "cells": [
  {
   "cell_type": "markdown",
   "metadata": {},
   "source": [
    "<div class=\"alert alert-block\" style=\"border: 1px solid #455A64;background-color:#ECEFF1;padding:5px;font-size:0.9em;\">\n",
    "본 자료와 관련 영상 컨텐츠는 저작권법 제25조 2항에 의해 보호를 받습니다. <br>본 컨텐츠 및 컨텐츠 일부 문구 등을 외부에 공개하거나, 요약해서 게시하지 말아주세요.\n",
    "</div>"
   ]
  },
  {
   "cell_type": "markdown",
   "metadata": {
    "collapsed": true
   },
   "source": [
    "## 꼭 알아둬야 할 자료 구조: 배열 (Array)\n",
    "* 데이터를 나열하고, 각 데이터를 인덱스에 대응하도록 구성한 데이터 구조\n",
    "* 파이썬에서는 리스트 타입이 배열 기능을 제공함\n",
    "\n",
    "> 기본부터 철저하게 익히세요 [동기부여 영상](https://youtu.be/whFZCmN__mM)"
   ]
  },
  {
   "cell_type": "markdown",
   "metadata": {},
   "source": [
    "### 1. 배열은 왜 필요할까?\n",
    "- 같은 종류의 데이터를 효율적으로 관리하기 위해 사용\n",
    "- 같은 종류의 데이터를 순차적으로 저장\n",
    "- 장점: \n",
    "  - 빠른 접근 가능\n",
    "    - 첫 데이터의 위치에서 상대적인 위치로 데이터 접근(인덱스 번호로 접근)\n",
    "- 단점: \n",
    "  - 데이터 추가/삭제의 어려움\n",
    "    - 미리 최대 길이를 지정해야 함\n",
    "  \n",
    "> 엑셀로 이해해보기"
   ]
  },
  {
   "cell_type": "markdown",
   "metadata": {},
   "source": [
    "### 참고: Primitive 자료형과 Wrapper 클래스\n",
    "- JAVA 에서는 int 와 Integer 같이, Primitive 자료형과 Wrapper 클래스가 있음\n",
    "- 본 강의 내에서는 Integer 와 같은 Wrapper 클래스가 다음과 같은 이유로, 사용되며, 가급적 복잡도를 낮추기 위해, Primitive 와 마구 혼용하기 보다는 주로 Wrapper 클래스를 사용하기로 함 (필요 시에만 Primitive 자료형을 사용하기로 함)\n",
    "   - null 을 용이하게 처리할 수 있고, \n",
    "   - ArrayList 등 객체만을 핸들링 하는 기능을 사용하기 위해"
   ]
  },
  {
   "cell_type": "markdown",
   "metadata": {},
   "source": [
    "### 2. JAVA와 배열"
   ]
  },
  {
   "cell_type": "markdown",
   "metadata": {},
   "source": [
    "### JAVA 에서는 기본 문법으로 배열 지원 \n",
    "- 1차원 배열은 [ ] 를 통해 선언할 수 있음 \n",
    "- 각 아이템은 { } 내에 콤마로 작성"
   ]
  },
  {
   "cell_type": "code",
   "execution_count": 1,
   "metadata": {},
   "outputs": [
    {
     "data": {
      "text/plain": [
       "1"
      ]
     },
     "execution_count": 1,
     "metadata": {},
     "output_type": "execute_result"
    }
   ],
   "source": [
    "// new 키워드를 사용해서, 배열을 미리 선언하고, 데이터를 넣을 수도 있음\n",
    "Integer[] data_list = new Integer[10];\n",
    "data_list[0] = 1"
   ]
  },
  {
   "cell_type": "code",
   "execution_count": 5,
   "metadata": {},
   "outputs": [],
   "source": [
    "data_list[2]"
   ]
  },
  {
   "cell_type": "code",
   "execution_count": 6,
   "metadata": {},
   "outputs": [
    {
     "name": "stdout",
     "output_type": "stream",
     "text": [
      "1\n"
     ]
    }
   ],
   "source": [
    "// 직접 배열 데이터 선언시 넣을 수도 있음\n",
    "Integer data_list1[] = {5, 4, 3, 2, 1};\n",
    "Integer[] data_list2 = {1, 2, 3, 4, 5};\n",
    "\n",
    "System.out.println(data_list2[0]);"
   ]
  },
  {
   "cell_type": "code",
   "execution_count": 7,
   "metadata": {},
   "outputs": [
    {
     "data": {
      "text/plain": [
       "5"
      ]
     },
     "execution_count": 7,
     "metadata": {},
     "output_type": "execute_result"
    }
   ],
   "source": [
    "// 주피터 노트북에서는 System.out.println 을 안써도 셀의 마지막 라인의 변수값은 자동 출력해줍니다. (변수값 확인에 매우 유용함)\n",
    "data_list1[0]"
   ]
  },
  {
   "cell_type": "markdown",
   "metadata": {},
   "source": [
    "### JAVA 에서 배열을 보다 손쉽게 다루기 위한 클래스등을 제공\n",
    "- 예: Arrays 클래스 활용하여, 전체 데이터 출력하기\n",
    "\n",
    "> 자료구조와 알고리즘을 JAVA 언어를 통해 이해하는 차원에서 예로 보여드리는 것입니다 <br>\n",
    "따라서, 핵심에 집중하기 위해, JAVA 문법 또는 다양한 JAVA 라이브러리 사용법등을 다루지는 않습니다"
   ]
  },
  {
   "cell_type": "code",
   "execution_count": 8,
   "metadata": {
    "scrolled": true
   },
   "outputs": [
    {
     "name": "stdout",
     "output_type": "stream",
     "text": [
      "[1, 2, 3, 4, 5]\n"
     ]
    }
   ],
   "source": [
    "import  java.util.Arrays;\n",
    "\n",
    "System.out.println( Arrays.toString(data_list2) ); // 배열의 내용을 출력하려면, Arrays.toString(배열변수) 메서드를 사용하면 됨"
   ]
  },
  {
   "cell_type": "markdown",
   "metadata": {},
   "source": [
    "### JAVA 에서 배열을 보다 손쉽게 다루기 위한 ArrayList 클래스 예\n",
    "- ArrayList 클래스는 가변 길이의 배열 자료구조를 다룰 수 있는 기능을 제공함"
   ]
  },
  {
   "cell_type": "markdown",
   "metadata": {},
   "source": [
    "### 참고: List 와 ArrayList\n",
    "- 다음과 같이 List 와 ArrayList 선언의 차이점\n",
    "```java\n",
    "List<Integer> list1 = new ArrayList<Integer>();\n",
    "ArrayList<Integer> list1 = new ArrayList<Integer>();\n",
    "```\n",
    "\n",
    "- List 는 인터페이스이고, ArrayList 는 클래스임\n",
    "   - 클래스는 크게 일반 클래스와 클래스 내에 '추상 메서드' 가 하나 이상 있거나, abstract 로 정의된 추상 클래스로 나뉨\n",
    "   - 인터페이스는 모든 메서드가 추상 메서드인 경우를 의미하며, 인터페이스를 상속받는 클래스는 인터페이스에서 정의된 추상 메서드를 모두 구현해야 함 (**따라서 다양한 클래스를 상속받는 특정 인터페이스는 결국 동일한 메서드를 제공함**)\n",
    "   - ArrayList 가 아니라, List 로 선언된 변수는 다음과 같이 필요에 따라 다른 리스트 클래스를 쓸 수 있는 **구현상의 유연성** 을 제공함\n",
    "     ```java\n",
    "        List<Integer> list1 = new ArrayList<Integer>();\n",
    "        list1 = new LinkedList<Integer>();\n",
    "     ```\n",
    "   - 다만, 본 자료구조/알고리즘에서는 굳이 동일 변수에 다양한 리스트 클래스를 쓸 필요는 없으므로, 최대한 동일한 클래스로 선언하기로 함\n",
    "     ```java\n",
    "        ArrayList<Integer> list1 = new ArrayList<Integer>();\n",
    "     ``` \n",
    "   - 이외에  JDK 1.7 이상부터는 인스턴스 생성 시 타입을 추정할 수 있는 경우에는 타입을 생략할 수 있으므로, 다음과 같이 작성 가능하지만, 가능한 JAVA 버전 제한하지 않기 위해, 본 강의에서는 아래 보다는, 가능한 위의 코드처럼 타입을 생략하지 않기로 함\n",
    "     ```java\n",
    "        ArrayList<Integer> list1 = new ArrayList<>();\n",
    "     ``` \n",
    "   "
   ]
  },
  {
   "cell_type": "markdown",
   "metadata": {},
   "source": [
    "### 참고: 패키지 임포트\n",
    "- 일반적인 패키지는 import 명령을 하지 않아도 주피터 노트북에서 사용 가능\n",
    "- 패키지 import 관련 에러가 나온다면, import 명령을 한번만 실행하면, 이후에는 주피터 노트북을 끌때까지 사용 가능함\n",
    "- 굳이 import를 안해도 되지만, 참고로 가능한 주피터 노트북 파일에서 한번씩은 import 코드를 넣기로 함"
   ]
  },
  {
   "cell_type": "code",
   "execution_count": 10,
   "metadata": {},
   "outputs": [],
   "source": [
    "// JAVA 에서는 기본적으로 java.util 패키지에 가변 크기의 배열을 다룰 수 있는 ArrayList 클래스도 제공하고 있음\n",
    "import java.util.ArrayList;\n",
    "\n",
    "ArrayList<Integer> list1 = new ArrayList<Integer>(); // int 형 데이터를 담을 수 있는 가변 길이의 배열 선언"
   ]
  },
  {
   "cell_type": "code",
   "execution_count": 11,
   "metadata": {},
   "outputs": [
    {
     "data": {
      "text/plain": [
       "1"
      ]
     },
     "execution_count": 11,
     "metadata": {},
     "output_type": "execute_result"
    }
   ],
   "source": [
    "list1.add(1); // 배열에 아이템 추가 시 add(아이템) 메서드 사용\n",
    "list1.add(2);\n",
    "list1.get(0) // 배열에 특정 아이템을 읽을 시 get(인덱스번호) 메서드 사용 (굳이 System.out.println() 을 사용하지 않아도 됨)"
   ]
  },
  {
   "cell_type": "code",
   "execution_count": 12,
   "metadata": {},
   "outputs": [
    {
     "data": {
      "text/plain": [
       "5"
      ]
     },
     "execution_count": 12,
     "metadata": {},
     "output_type": "execute_result"
    }
   ],
   "source": [
    "list1.set(0, 5); // 특정 인덱스에 해당하는 아이템 변경 시, set(인덱스번호, 변경할값) 메서드 사용\n",
    "list1.get(0)"
   ]
  },
  {
   "cell_type": "code",
   "execution_count": 13,
   "metadata": {},
   "outputs": [
    {
     "data": {
      "text/plain": [
       "2"
      ]
     },
     "execution_count": 13,
     "metadata": {},
     "output_type": "execute_result"
    }
   ],
   "source": [
    "list1.remove(0); // 특정 인덱스에 해당하는 아이템 삭제 시, remove(인덱스번호) 메서드 사용\n",
    "list1.get(0)"
   ]
  },
  {
   "cell_type": "code",
   "execution_count": 14,
   "metadata": {},
   "outputs": [
    {
     "data": {
      "text/plain": [
       "1"
      ]
     },
     "execution_count": 14,
     "metadata": {},
     "output_type": "execute_result"
    }
   ],
   "source": [
    "// 배열 길이 확인하기\n",
    "list1.size()"
   ]
  },
  {
   "cell_type": "markdown",
   "metadata": {},
   "source": [
    "##### JAVA 에서는 기본 문법으로 다차원 배열도 작성 가능 (2차원 배열)"
   ]
  },
  {
   "cell_type": "code",
   "execution_count": 16,
   "metadata": {},
   "outputs": [
    {
     "name": "stdout",
     "output_type": "stream",
     "text": [
      "2\n",
      "5\n"
     ]
    }
   ],
   "source": [
    "Integer data_list[][] = { {1, 2, 3}, {4, 5, 6} };\n",
    "\n",
    "// 데이터 2 인덱스로 지정해서 출력해보기\n",
    "System.out.println( data_list[0][1] );\n",
    "// 데이터 5 인덱스로 지정해서 출력해보기\n",
    "System.out.println( data_list[1][1] );"
   ]
  },
  {
   "cell_type": "markdown",
   "metadata": {},
   "source": [
    "##### JAVA 에서는 기본 문법으로 다차원 배열도 작성 가능 (3차원 배열)"
   ]
  },
  {
   "cell_type": "code",
   "execution_count": 17,
   "metadata": {},
   "outputs": [
    {
     "name": "stdout",
     "output_type": "stream",
     "text": [
      "5\n",
      "12\n"
     ]
    }
   ],
   "source": [
    "Integer[][][] data_list = { \n",
    "        {\n",
    "            {1, 2, 3}, \n",
    "            {4, 5, 6} \n",
    "        },\n",
    "        {\n",
    "            {7, 8, 9}, \n",
    "            {10, 11, 12} \n",
    "        }\n",
    "};\n",
    "\n",
    "// 데이터 5 인덱스로 지정해서 출력해보기\n",
    "System.out.println( data_list[0][1][1] );\n",
    "// 데이터 12 인덱스로 지정해서 출력해보기\n",
    "System.out.println( data_list[1][1][2] );"
   ]
  },
  {
   "cell_type": "markdown",
   "metadata": {},
   "source": [
    "### 3. 프로그래밍 연습 "
   ]
  },
  {
   "cell_type": "markdown",
   "metadata": {},
   "source": [
    "<div class=\"alert alert-block\" style=\"border: 1px solid #FFB300;background-color:#F9FBE7;font-size:1em;line-height:1.4em\">\n",
    "<font size=\"3em\" style=\"font-weight:bold;color:#3f8dbf;\">연습해보기1</font><br><br>\n",
    "위 3차원 배열에서 8, 10, 2 를 순서대로 각각의 라인에 출력해보기 (System.out.println 사용) <br>\n",
    "    \n",
    "- 처음이라 쉽습니다. 처음에는 매우 쉽지만, 후반부는 충분히 어렵습니다. \n",
    "- 쉬운 부분을 잘 쌓아나가야 어려운 부분을 잘 할 수 있습니다. \n",
    "    \n",
    "</div>"
   ]
  },
  {
   "cell_type": "code",
   "execution_count": 20,
   "metadata": {},
   "outputs": [
    {
     "name": "stdout",
     "output_type": "stream",
     "text": [
      "8\n",
      "10\n",
      "2\n"
     ]
    }
   ],
   "source": [
    "System.out.println( data_list[1][0][1] );\n",
    "System.out.println( data_list[1][1][0] );\n",
    "System.out.println( data_list[0][0][1] );"
   ]
  },
  {
   "cell_type": "code",
   "execution_count": 4,
   "metadata": {},
   "outputs": [],
   "source": [
    "String dataset[] = {\n",
    "    \"Braund, Mr. Owen Harris\",\n",
    "    \"Cumings, Mrs. John Bradley (Florence Briggs Thayer)\",\n",
    "    \"Heikkinen, Miss. Laina\",\n",
    "    \"Futrelle, Mrs. Jacques Heath (Lily May Peel)\",\n",
    "    \"Allen, Mr. William Henry\",\n",
    "    \"Moran, Mr. James\",\n",
    "    \"McCarthy, Mr. Timothy J\",\n",
    "    \"Palsson, Master. Gosta Leonard\",\n",
    "    \"Johnson, Mrs. Oscar W (Elisabeth Vilhelmina Berg)\",\n",
    "    \"Nasser, Mrs. Nicholas (Adele Achem)\",\n",
    "    \"Sandstrom, Miss. Marguerite Rut\",\n",
    "    \"Bonnell, Miss. Elizabeth\",\n",
    "    \"Saundercock, Mr. William Henry\",\n",
    "    \"Andersson, Mr. Anders Johan\",\n",
    "    \"Vestrom, Miss. Hulda Amanda Adolfina\",\n",
    "    \"Hewlett, Mrs. (Mary D Kingcome) \",\n",
    "    \"Rice, Master. Eugene\",\n",
    "    \"Williams, Mr. Charles Eugene\",\n",
    "    \"Vander Planke, Mrs. Julius (Emelia Maria Vandemoortele)\",\n",
    "    \"Masselmani, Mrs. Fatima\",\n",
    "    \"Fynney, Mr. Joseph J\",\n",
    "    \"Beesley, Mr. Lawrence\",\n",
    "    \"McGowan, Miss. Anna\",\n",
    "    \"Sloper, Mr. William Thompson\",\n",
    "    \"Palsson, Miss. Torborg Danira\",\n",
    "    \"Asplund, Mrs. Carl Oscar (Selma Augusta Emilia Johansson)\",\n",
    "    \"Emir, Mr. Farred Chehab\",\n",
    "    \"Fortune, Mr. Charles Alexander\",\n",
    "    \"Dwyer, Miss. Ellen\",\n",
    "    \"Todoroff, Mr. Lalio\"\n",
    "};"
   ]
  },
  {
   "cell_type": "markdown",
   "metadata": {},
   "source": [
    "<div class=\"alert alert-block\" style=\"border: 1px solid #FFB300;background-color:#F9FBE7;font-size:1em;line-height:1.4em\">\n",
    "<font size=\"3em\" style=\"font-weight:bold;color:#3f8dbf;\">연습해보기2</font><br><br>\n",
    "위 1차원 배열에서, 문자 M 을 가지고 있는 아이템의 수를 출력해보기\n",
    "\n",
    "- 참고\n",
    "   - 배열.length : 배열에 들어 있는 아이템 갯수\n",
    "   - 문자열.indexof(String key) : 문자 key 가 해당 문자열에 있으면 해당 문자의 위치 (index 값) 를 리턴하고, 없으면 -1 을 리턴함 \n",
    "</div>"
   ]
  },
  {
   "cell_type": "code",
   "execution_count": 5,
   "metadata": {},
   "outputs": [
    {
     "name": "stdout",
     "output_type": "stream",
     "text": [
      "30\n"
     ]
    }
   ],
   "source": [
    "Integer count = 0;\n",
    "\n",
    "for (Integer item=0; item < dataset.length; item++) {\n",
    "    // <2021.06.14 업데이트>\n",
    "    // 영상에서 indexOf(\"M\") > 0 으로 설명드렸습니다만, \"M\" 부터 시작되는 문자열은 indexOf(\"M\")  값이 0 이 나오므로,\n",
    "    // >= 으로 자료 코드에서 수정하였습니다.\n",
    "    if (dataset[item].indexOf(\"M\") >= 0) {   \n",
    "        // System.out.println(dataset[item]);\n",
    "        count++;\n",
    "    }\n",
    "}\n",
    "System.out.println(count);"
   ]
  },
  {
   "cell_type": "markdown",
   "metadata": {},
   "source": [
    "### 쉬어가기: [Arrays are everywhere](https://youtu.be/ks-q6gKoQKs)"
   ]
  },
  {
   "cell_type": "markdown",
   "metadata": {},
   "source": [
    "<div class=\"alert alert-block\" style=\"border: 1px solid #455A64;background-color:#ECEFF1;padding:5px;font-size:0.9em;\">\n",
    "본 자료와 관련 영상 컨텐츠는 저작권법 제25조 2항에 의해 보호를 받습니다. <br>본 컨텐츠 및 컨텐츠 일부 문구 등을 외부에 공개하거나, 요약해서 게시하지 말아주세요.\n",
    "</div>"
   ]
  }
 ],
 "metadata": {
  "kernelspec": {
   "display_name": "Java",
   "language": "java",
   "name": "java"
  },
  "language_info": {
   "codemirror_mode": "java",
   "file_extension": ".jshell",
   "mimetype": "text/x-java-source",
   "name": "Java",
   "pygments_lexer": "java",
   "version": "16.0.2+7"
  }
 },
 "nbformat": 4,
 "nbformat_minor": 4
}
