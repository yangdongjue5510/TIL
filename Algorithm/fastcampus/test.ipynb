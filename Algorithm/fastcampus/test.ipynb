{
 "cells": [
  {
   "cell_type": "code",
   "execution_count": 1,
   "id": "3ecd1a35",
   "metadata": {},
   "outputs": [
    {
     "name": "stdout",
     "output_type": "stream",
     "text": [
      "install.py:164: DeprecationWarning: replace is ignored. Installing a kernelspec always replaces an existing installation\n",
      "  install_dest = KernelSpecManager().install_kernel_spec(\n",
      "Installed java kernel into \"/Users/MUHN2-031/opt/anaconda3/share/jupyter/kernels/java\"\n"
     ]
    }
   ],
   "source": [
    "!python install.py --sys-prefix"
   ]
  },
  {
   "cell_type": "code",
   "execution_count": null,
   "id": "008154a0",
   "metadata": {},
   "outputs": [],
   "source": []
  }
 ],
 "metadata": {
  "kernelspec": {
   "display_name": "Python 3",
   "language": "python",
   "name": "python3"
  },
  "language_info": {
   "codemirror_mode": {
    "name": "ipython",
    "version": 3
   },
   "file_extension": ".py",
   "mimetype": "text/x-python",
   "name": "python",
   "nbconvert_exporter": "python",
   "pygments_lexer": "ipython3",
   "version": "3.8.8"
  }
 },
 "nbformat": 4,
 "nbformat_minor": 5
}
