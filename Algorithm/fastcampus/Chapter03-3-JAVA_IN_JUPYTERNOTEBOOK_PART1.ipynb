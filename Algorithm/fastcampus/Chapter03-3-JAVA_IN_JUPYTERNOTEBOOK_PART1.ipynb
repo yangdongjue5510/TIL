{
 "cells": [
  {
   "cell_type": "markdown",
   "metadata": {},
   "source": [
    "<div class=\"alert alert-block\" style=\"border: 1px solid #455A64;background-color:#ECEFF1;padding:5px;font-size:0.9em;\">\n",
    "본 자료와 관련 영상 컨텐츠는 저작권법 제25조 2항에 의해 보호를 받습니다. <br>본 컨텐츠 및 컨텐츠 일부 문구 등을 외부에 공개하거나, 요약해서 게시하지 말아주세요.\n",
    "</div>"
   ]
  },
  {
   "cell_type": "markdown",
   "metadata": {},
   "source": [
    "<div class=\"alert alert-block\" style=\"border: 1px solid #FFB300;background-color:#F9FBE7;font-size:1.2em;line-height:1.4em\">\n",
    "<font size=\"4em\" style=\"font-weight:bold;color:#3f8dbf;\">주피터 노트북과 프로그래밍 by Dave Lee (잔재미코딩)</font><br><br>\n",
    "- 10줄 이상의 코드만 되더라도, 한번에 작성하고, 완벽하게 실행하는 것은 어렵습니다. <br>\n",
    "- 나누고, 쪼개고, 한줄 한줄 실행되는 모습을 언제든 볼 수 있다면 보다 수월하게 프로그래밍에 익숙해질 수 있습니다. <br>\n",
    "- 무엇보다 알고리즘처럼 난이도가 굉장히 높은 프로그래밍을 익힐 때는 굉장한 시간이 걸립니다. (약 1년 ~ 무한대...--;) <br>\n",
    "- 이 기간을 단축시키기 위한 특별한 방안으로 한줄 한줄 코드를 테스트하고, 실행할 수 있는 새로운 툴을 사용합니다. <br>\n",
    "- 50대 문과분도 이 툴로 익히고 파이썬 크롤링과 데이터를 처리하고 계십니다. (저도 사실 깜짝 놀랬습니다) <br>\n",
    "- 기존에 사용하시던 에디터로 본 영상의 코드를 테스트하셔도 좋고, 주피터 노트북으로 연습하셔도 좋을 것 같습니다.<br>\n",
    "</div>"
   ]
  },
  {
   "cell_type": "markdown",
   "metadata": {},
   "source": [
    "## 1. IJAVA 설치\n",
    "\n",
    "<div class=\"alert alert-block\" style=\"border: 2px solid #E65100;background-color:#FFF3E0;padding:10px\">\n",
    "<font size=\"4em\" style=\"font-weight:bold;color:#BF360C;\">사전에 Java JDK 가 9 이상 설치되어 있어야 하며, 자신의 JDK 가 오래 전에 설치된 예전 버전일 수 있으므로, 이 경우, 기존 버전 삭제 후, 이전 JDK 설치 영상에 따라, 최신 버전으로 설치하는 것도 권장함 (특히 윈도우의 경우 PATH 설정도 정확히 하기를 권장함)</font>\n",
    "</div>\n",
    "\n",
    "\n",
    "- 다음 IJAVA Release Tab 에서 ijava-최신버전.zip 다운로드 및 현재 폴더에 압축을 푼 파일들만 복사 (폴더째가 아니라, 폴더 내의 파일들을 현재 주피터 노트북 파일이 들어 있는 폴더로 이동)\n",
    "  - https://github.com/SpencerPark/IJava/releases    \n",
    "<br><br>\n",
    "\n",
    "- 설치 방법\n",
    "> 가장 쉬운 방법을 설명드립니다. \n",
    "> 주피터 노트북 상에서 터미널 명령을 실행하면, 폴더 경로만 맞춰주시면 바로 실행이 됩니다\n",
    "  1. 주피터 노트북 상의 python 과 터미널 상의 python 명령 폴더가 동일하면, ijava-최신버전.zip 압축을 푼 디렉토리에서 다음 명령 실행\n",
    "     ```bash\n",
    "     !python install.py --sys-prefix\n",
    "     ```\n",
    "\n",
    "> 이상을 진행한 후, 주피터 노트북을 껐다 키거나, 컴퓨터 자체를 껐다 킨 후, 주피터 노트북 오픈"
   ]
  },
  {
   "cell_type": "code",
   "execution_count": 3,
   "metadata": {
    "scrolled": true
   },
   "outputs": [
    {
     "name": "stdout",
     "output_type": "stream",
     "text": [
      "install.py:164: DeprecationWarning: replace is ignored. Installing a kernelspec always replaces an existing installation\n",
      "  install_dest = KernelSpecManager().install_kernel_spec(\n",
      "Installed java kernel into \"/Users/davelee/opt/anaconda3/share/jupyter/kernels/java\"\n"
     ]
    }
   ],
   "source": [
    "!python install.py --sys-prefix"
   ]
  },
  {
   "cell_type": "markdown",
   "metadata": {},
   "source": [
    "<div class=\"alert alert-block\" style=\"border: 1px solid #455A64;background-color:#ECEFF1;padding:5px;font-size:0.9em;\">\n",
    "본 자료와 관련 영상 컨텐츠는 저작권법 제25조 2항에 의해 보호를 받습니다. <br>본 컨텐츠 및 컨텐츠 일부 문구 등을 외부에 공개하거나, 요약해서 게시하지 말아주세요.\n",
    "</div>"
   ]
  }
 ],
 "metadata": {
  "kernelspec": {
   "display_name": "Python 3",
   "language": "python",
   "name": "python3"
  },
  "language_info": {
   "codemirror_mode": {
    "name": "ipython",
    "version": 3
   },
   "file_extension": ".py",
   "mimetype": "text/x-python",
   "name": "python",
   "nbconvert_exporter": "python",
   "pygments_lexer": "ipython3",
   "version": "3.8.8"
  }
 },
 "nbformat": 4,
 "nbformat_minor": 4
}
